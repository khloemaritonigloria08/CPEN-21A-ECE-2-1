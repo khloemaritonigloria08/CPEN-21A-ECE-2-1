{
  "nbformat": 4,
  "nbformat_minor": 0,
  "metadata": {
    "colab": {
      "name": "Lab 1.ipynb",
      "provenance": [],
      "authorship_tag": "ABX9TyP8/Getddi+ifFV/lUzgXEM",
      "include_colab_link": true
    },
    "kernelspec": {
      "name": "python3",
      "display_name": "Python 3"
    },
    "language_info": {
      "name": "python"
    }
  },
  "cells": [
    {
      "cell_type": "markdown",
      "metadata": {
        "id": "view-in-github",
        "colab_type": "text"
      },
      "source": [
        "<a href=\"https://colab.research.google.com/github/khloemaritonigloria08/CPEN-21A-ECE-2-1/blob/main/Lab_1.ipynb\" target=\"_parent\"><img src=\"https://colab.research.google.com/assets/colab-badge.svg\" alt=\"Open In Colab\"/></a>"
      ]
    },
    {
      "cell_type": "markdown",
      "metadata": {
        "id": "WXRkEBX1wGFB"
      },
      "source": [
        "#Laboratory 1"
      ]
    },
    {
      "cell_type": "code",
      "metadata": {
        "colab": {
          "base_uri": "https://localhost:8080/"
        },
        "id": "BP3_upXawI-S",
        "outputId": "21d5362a-7abf-4bb4-c359-5d91428867cc"
      },
      "source": [
        "print(\"Welcome to Python Programming\")"
      ],
      "execution_count": 3,
      "outputs": [
        {
          "output_type": "stream",
          "name": "stdout",
          "text": [
            "Welcome to Python Programming\n"
          ]
        }
      ]
    },
    {
      "cell_type": "code",
      "metadata": {
        "colab": {
          "base_uri": "https://localhost:8080/"
        },
        "id": "550n9xSawMvp",
        "outputId": "131ad2b2-1537-4fb2-e270-73fb8a00ea2e"
      },
      "source": [
        "name=\"Khloe' Maritoni A. Gloria\"\n",
        "address=\"18 Gen. A. Mojica St., Poblacion 2, Indang, Cavite\"\n",
        "age=\"19 years old\"\n",
        "print(name)\n",
        "print(address)\n",
        "print(age)"
      ],
      "execution_count": 8,
      "outputs": [
        {
          "output_type": "stream",
          "name": "stdout",
          "text": [
            "Khloe' Maritoni A. Gloria\n",
            "18 Gen. A. Mojica St., Poblacion 2, Indang, Cavite\n",
            "19 years old\n"
          ]
        }
      ]
    }
  ]
}