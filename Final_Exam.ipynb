{
  "nbformat": 4,
  "nbformat_minor": 0,
  "metadata": {
    "colab": {
      "name": "Final Exam.ipynb",
      "provenance": [],
      "collapsed_sections": [],
      "authorship_tag": "ABX9TyP4aS7saoGxiUW8MAqUmeKT",
      "include_colab_link": true
    },
    "kernelspec": {
      "name": "python3",
      "display_name": "Python 3"
    },
    "language_info": {
      "name": "python"
    }
  },
  "cells": [
    {
      "cell_type": "markdown",
      "metadata": {
        "id": "view-in-github",
        "colab_type": "text"
      },
      "source": [
        "<a href=\"https://colab.research.google.com/github/khloemaritonigloria08/CPEN-21A-ECE-2-1/blob/main/Final_Exam.ipynb\" target=\"_parent\"><img src=\"https://colab.research.google.com/assets/colab-badge.svg\" alt=\"Open In Colab\"/></a>"
      ]
    },
    {
      "cell_type": "markdown",
      "source": [
        "#Final Exam\n"
      ],
      "metadata": {
        "id": "rDPoJ4N6nyPk"
      }
    },
    {
      "cell_type": "markdown",
      "source": [
        "##Problem Statement 1"
      ],
      "metadata": {
        "id": "NV_rIhL-n9Ap"
      }
    },
    {
      "cell_type": "code",
      "source": [
        "n = [4,3,2,1,0,-1,-2,-3,-4,-5]\n",
        "sum=0\n",
        "for x in n:\n",
        "  sum=sum+x\n",
        "print(sum)"
      ],
      "metadata": {
        "colab": {
          "base_uri": "https://localhost:8080/"
        },
        "id": "Z8bnNXQRo2gu",
        "outputId": "faa1edbb-9394-4550-d023-63c820b55340"
      },
      "execution_count": null,
      "outputs": [
        {
          "output_type": "stream",
          "name": "stdout",
          "text": [
            "-5\n"
          ]
        }
      ]
    },
    {
      "cell_type": "markdown",
      "source": [
        "##Problem Statement 2"
      ],
      "metadata": {
        "id": "omEiI2d_oBFJ"
      }
    },
    {
      "cell_type": "code",
      "source": [
        "n=1;\n",
        "data={};\n",
        "while(n <=5):\n",
        "  i=str(n);\n",
        "  data[n]=input(\"n:\")\n",
        "  print(data[n])\n",
        "  n+=1\n",
        "  if(n==6):\n",
        "    sum=float(data[1])+float(data[5])  \n",
        "    print(\"SUM: \"+ str(sum))"
      ],
      "metadata": {
        "colab": {
          "base_uri": "https://localhost:8080/"
        },
        "id": "SlgejKFuXqn2",
        "outputId": "a904dfa9-18ef-4edd-e1a9-f17ac756bab5"
      },
      "execution_count": null,
      "outputs": [
        {
          "output_type": "stream",
          "name": "stdout",
          "text": [
            "n:8\n",
            "8\n",
            "n:9\n",
            "9\n",
            "n:10\n",
            "10\n",
            "n:11\n",
            "11\n",
            "n:12\n",
            "12\n",
            "SUM: 20.0\n"
          ]
        }
      ]
    },
    {
      "cell_type": "markdown",
      "source": [
        "##Problem Statement 3"
      ],
      "metadata": {
        "id": "eRD-EwQDoEqx"
      }
    },
    {
      "cell_type": "code",
      "source": [
        "grade = float(input(\"Enter your grade:\"))\n",
        "if grade >= 90:\n",
        " print(\"A\")\n",
        "elif grade >= 80:\n",
        "  print(\"B\")\n",
        "elif grade >= 70:\n",
        " print(\"C\")\n",
        "elif grade >= 60:\n",
        "  print(\"D\")\n",
        "else:\n",
        "  print(\"F\")"
      ],
      "metadata": {
        "colab": {
          "base_uri": "https://localhost:8080/"
        },
        "id": "utmHFvs60At2",
        "outputId": "ad91f45b-7e7a-49ad-e8b8-8c96ba787bb0"
      },
      "execution_count": null,
      "outputs": [
        {
          "output_type": "stream",
          "name": "stdout",
          "text": [
            "Enter your grade:95\n",
            "A\n"
          ]
        }
      ]
    }
  ]
}