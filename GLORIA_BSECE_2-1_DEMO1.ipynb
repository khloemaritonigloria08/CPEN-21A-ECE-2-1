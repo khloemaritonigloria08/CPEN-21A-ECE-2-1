{
  "nbformat": 4,
  "nbformat_minor": 0,
  "metadata": {
    "colab": {
      "name": "GLORIA_BSECE 2-1_DEMO1.ipynb",
      "provenance": [],
      "authorship_tag": "ABX9TyMqAhxYFpPMJEnJIrhzD+uF",
      "include_colab_link": true
    },
    "kernelspec": {
      "name": "python3",
      "display_name": "Python 3"
    },
    "language_info": {
      "name": "python"
    }
  },
  "cells": [
    {
      "cell_type": "markdown",
      "metadata": {
        "id": "view-in-github",
        "colab_type": "text"
      },
      "source": [
        "<a href=\"https://colab.research.google.com/github/khloemaritonigloria08/CPEN-21A-ECE-2-1/blob/main/GLORIA_BSECE_2-1_DEMO1.ipynb\" target=\"_parent\"><img src=\"https://colab.research.google.com/assets/colab-badge.svg\" alt=\"Open In Colab\"/></a>"
      ]
    },
    {
      "cell_type": "markdown",
      "metadata": {
        "id": "J8y1mscP_rJH"
      },
      "source": [
        "#Introduction to Python Programming"
      ]
    },
    {
      "cell_type": "code",
      "metadata": {
        "colab": {
          "base_uri": "https://localhost:8080/"
        },
        "id": "Y7EOjIAm_2AO",
        "outputId": "300b5d48-be42-4fe5-f8de-8dfdf791b872"
      },
      "source": [
        "#Python Indention\n",
        "if 5>2:\n",
        "  print(\"Five is greater than two\")"
      ],
      "execution_count": 2,
      "outputs": [
        {
          "output_type": "stream",
          "name": "stdout",
          "text": [
            "Five is greater than two\n"
          ]
        }
      ]
    },
    {
      "cell_type": "markdown",
      "metadata": {
        "id": "DmKFluwTAid1"
      },
      "source": [
        "#Python Variable"
      ]
    },
    {
      "cell_type": "code",
      "metadata": {
        "colab": {
          "base_uri": "https://localhost:8080/"
        },
        "id": "setQwLdOAoEV",
        "outputId": "858eaff9-4ad8-40ac-f3d5-942fb54d789e"
      },
      "source": [
        "x =  1\n",
        "a, b = 0, 1\n",
        "a,b,c=\"zero\",\"one\",\"two\"\n",
        "print(x)\n",
        "print(a)\n",
        "print(b)\n",
        "print(c)"
      ],
      "execution_count": 4,
      "outputs": [
        {
          "output_type": "stream",
          "name": "stdout",
          "text": [
            "1\n",
            "zero\n",
            "one\n",
            "two\n"
          ]
        }
      ]
    },
    {
      "cell_type": "code",
      "metadata": {
        "colab": {
          "base_uri": "https://localhost:8080/"
        },
        "id": "N5RcLfEkBYTe",
        "outputId": "ffa774a9-77ce-4ee9-9977-b9ddfb426c3b"
      },
      "source": [
        "d = \"Khloe\" #This is a string\n",
        "D=\"Gloria\"\n",
        "print(d)\n",
        "e = \"Maritoni\"\n",
        "print(e)\n",
        "print(D)"
      ],
      "execution_count": 5,
      "outputs": [
        {
          "output_type": "stream",
          "name": "stdout",
          "text": [
            "Khloe\n",
            "Maritoni\n",
            "Gloria\n"
          ]
        }
      ]
    },
    {
      "cell_type": "code",
      "metadata": {
        "colab": {
          "base_uri": "https://localhost:8080/"
        },
        "id": "SGf96VtmCK73",
        "outputId": "a70b229a-b25b-4d28-8ede-d0f1946b99a5"
      },
      "source": [
        "print(type(d)) #This is a Type function\n",
        "print(type(x))"
      ],
      "execution_count": 6,
      "outputs": [
        {
          "output_type": "stream",
          "name": "stdout",
          "text": [
            "<class 'str'>\n",
            "<class 'int'>\n"
          ]
        }
      ]
    },
    {
      "cell_type": "markdown",
      "metadata": {
        "id": "5ut_dagWCXku"
      },
      "source": [
        "#Casting"
      ]
    },
    {
      "cell_type": "code",
      "metadata": {
        "colab": {
          "base_uri": "https://localhost:8080/"
        },
        "id": "1j64xvZnCabu",
        "outputId": "ca4208c0-8360-497e-b73f-b4ed6a7a29bc"
      },
      "source": [
        "f = float(4)\n",
        "print(f)\n",
        "g = int(5)\n",
        "print(g)"
      ],
      "execution_count": 7,
      "outputs": [
        {
          "output_type": "stream",
          "name": "stdout",
          "text": [
            "4.0\n",
            "5\n"
          ]
        }
      ]
    },
    {
      "cell_type": "markdown",
      "metadata": {
        "id": "CkjAhMX_Cmk9"
      },
      "source": [
        "#Multiple Variables with One Value"
      ]
    },
    {
      "cell_type": "code",
      "metadata": {
        "colab": {
          "base_uri": "https://localhost:8080/"
        },
        "id": "f00IEAaqCqpl",
        "outputId": "11c6f9b6-0522-4563-c5f9-fb9f094159b2"
      },
      "source": [
        "x = y = z =\"eight\"\n",
        "print(x)\n",
        "print(y)\n",
        "print(z)"
      ],
      "execution_count": 8,
      "outputs": [
        {
          "output_type": "stream",
          "name": "stdout",
          "text": [
            "eight\n",
            "eight\n",
            "eight\n"
          ]
        }
      ]
    },
    {
      "cell_type": "code",
      "metadata": {
        "colab": {
          "base_uri": "https://localhost:8080/"
        },
        "id": "6aaY2XBFC4OV",
        "outputId": "1e98bddc-b14d-4e83-fa98-71fc919125e9"
      },
      "source": [
        "x =\"enjoying\"\n",
        "print(\"Python Programming is\" \" \" +x)\n"
      ],
      "execution_count": 9,
      "outputs": [
        {
          "output_type": "stream",
          "name": "stdout",
          "text": [
            "Python Programming is enjoying\n"
          ]
        }
      ]
    },
    {
      "cell_type": "markdown",
      "metadata": {
        "id": "Kcf4eomvDMHO"
      },
      "source": [
        "#Operations in Python"
      ]
    },
    {
      "cell_type": "code",
      "metadata": {
        "colab": {
          "base_uri": "https://localhost:8080/"
        },
        "id": "G8hVbcg9DPAu",
        "outputId": "35767c8d-670c-49a5-d478-2262ed5f2a24"
      },
      "source": [
        "x = 5\n",
        "y = 7\n",
        "x += y #This is the same as x = x + y\n",
        "print(x+y)\n",
        "print(x*y)\n",
        "print(x)"
      ],
      "execution_count": 10,
      "outputs": [
        {
          "output_type": "stream",
          "name": "stdout",
          "text": [
            "19\n",
            "84\n",
            "12\n"
          ]
        }
      ]
    },
    {
      "cell_type": "code",
      "metadata": {
        "colab": {
          "base_uri": "https://localhost:8080/"
        },
        "id": "dWTQY1dFDl61",
        "outputId": "f13c2e2f-8fdb-43fe-da49-57350c67d619"
      },
      "source": [
        "x = 5\n",
        "y = 7\n",
        "not(x>y or y==x)"
      ],
      "execution_count": 11,
      "outputs": [
        {
          "output_type": "execute_result",
          "data": {
            "text/plain": [
              "True"
            ]
          },
          "metadata": {},
          "execution_count": 11
        }
      ]
    },
    {
      "cell_type": "code",
      "metadata": {
        "colab": {
          "base_uri": "https://localhost:8080/"
        },
        "id": "rYspPzmRD0Jt",
        "outputId": "fe3879d6-0563-4291-c819-b20ca52aa56d"
      },
      "source": [
        "x is y"
      ],
      "execution_count": 12,
      "outputs": [
        {
          "output_type": "execute_result",
          "data": {
            "text/plain": [
              "False"
            ]
          },
          "metadata": {},
          "execution_count": 12
        }
      ]
    },
    {
      "cell_type": "code",
      "metadata": {
        "colab": {
          "base_uri": "https://localhost:8080/"
        },
        "id": "J5U3Pqm4D2es",
        "outputId": "9d4e4fb5-2c6b-4968-ea57-0724fd6579d6"
      },
      "source": [
        "x is not y"
      ],
      "execution_count": 13,
      "outputs": [
        {
          "output_type": "execute_result",
          "data": {
            "text/plain": [
              "True"
            ]
          },
          "metadata": {},
          "execution_count": 13
        }
      ]
    }
  ]
}