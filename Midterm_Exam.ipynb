{
  "nbformat": 4,
  "nbformat_minor": 0,
  "metadata": {
    "colab": {
      "name": "Midterm Exam.ipynb",
      "provenance": [],
      "authorship_tag": "ABX9TyPE5lk5s9BiXSavWrwxDGn2",
      "include_colab_link": true
    },
    "kernelspec": {
      "name": "python3",
      "display_name": "Python 3"
    },
    "language_info": {
      "name": "python"
    }
  },
  "cells": [
    {
      "cell_type": "markdown",
      "metadata": {
        "id": "view-in-github",
        "colab_type": "text"
      },
      "source": [
        "<a href=\"https://colab.research.google.com/github/khloemaritonigloria08/CPEN-21A-ECE-2-1/blob/main/Midterm_Exam.ipynb\" target=\"_parent\"><img src=\"https://colab.research.google.com/assets/colab-badge.svg\" alt=\"Open In Colab\"/></a>"
      ]
    },
    {
      "cell_type": "markdown",
      "metadata": {
        "id": "Km7izhg-3NpW"
      },
      "source": [
        "#Midterm Exam"
      ]
    },
    {
      "cell_type": "code",
      "metadata": {
        "colab": {
          "base_uri": "https://localhost:8080/"
        },
        "id": "VB1Q5Ohe3cH7",
        "outputId": "b739b0dd-9ea4-480f-8358-aa4e46c35210"
      },
      "source": [
        "name=(\"Khloe' Maritoni Gloria\")\n",
        "studentnumber=(\"202013257\")\n",
        "age=(\"19 years old\")\n",
        "birthday=(\"August 13, 2002\")\n",
        "address=(\"18 Gen. A. Mojica St., Poblacion 2, Indang, Cavite\")\n",
        "course=(\"BS Electronics Engineering\")\n",
        "lastsemGWA=(\"1.33\")\n",
        "\n",
        "print(name)\n",
        "print(studentnumber)\n",
        "print(age)\n",
        "print(birthday)\n",
        "print(course)\n",
        "print(lastsemGWA)\n",
        "\n",
        "\n"
      ],
      "execution_count": 11,
      "outputs": [
        {
          "output_type": "stream",
          "name": "stdout",
          "text": [
            "Khloe' Maritoni Gloria\n",
            "202013257\n",
            "19 years old\n",
            "August 13, 2002\n",
            "BS Electronics Engineering\n",
            "1.33\n"
          ]
        }
      ]
    },
    {
      "cell_type": "code",
      "metadata": {
        "colab": {
          "base_uri": "https://localhost:8080/"
        },
        "id": "3B0hmqBaDM3p",
        "outputId": "a2979da3-64f7-40ad-8b13-8fdca89e104a"
      },
      "source": [
        "n=4\n",
        "answ=\"Y\"\n",
        "\n",
        "print((2<n) and (n<6))\n",
        "print((2<n) or (n==6))\n",
        "print(not(2<n) or (n==6))\n",
        "print(not(n<6))\n",
        "print((answ==\"Y\") or (answ==\"y\"))\n",
        "print(answ==\"Y\") and (answ==\"y\")\n",
        "print(not answ==\"y\")\n",
        "print((2<n and n==5+1) or answ==\"No\")\n",
        "print(((n==2) and (n==7)) or (answ==\"Y\"))\n",
        "print(n==2) and ((n==7) or(answ==\"Y\"))\n",
        "\n"
      ],
      "execution_count": 212,
      "outputs": [
        {
          "output_type": "stream",
          "name": "stdout",
          "text": [
            "True\n",
            "True\n",
            "False\n",
            "False\n",
            "True\n",
            "True\n",
            "True\n",
            "False\n",
            "True\n",
            "False\n"
          ]
        }
      ]
    },
    {
      "cell_type": "code",
      "metadata": {
        "colab": {
          "base_uri": "https://localhost:8080/"
        },
        "id": "W-M9hhyuDNDA",
        "outputId": "c9ebec83-4a17-4000-9349-34ff260f96e0"
      },
      "source": [
        "x=2\n",
        "y=-3\n",
        "w=7\n",
        "z=-10\n",
        "\n",
        "print(x/y)\n",
        "print(w/y/x)\n",
        "print(z/y%x)\n",
        "print(x%-y*w)\n",
        "print(x%y)\n",
        "print(z%w-y/x*5+5)\n",
        "print(9-x%(2+y))\n",
        "print(z//w)\n",
        "print((2+y)**2)\n",
        "print(w/x*2)\n"
      ],
      "execution_count": 120,
      "outputs": [
        {
          "output_type": "stream",
          "name": "stdout",
          "text": [
            "-0.6666666666666666\n",
            "-1.1666666666666667\n",
            "1.3333333333333335\n",
            "14\n",
            "-1\n",
            "16.5\n",
            "9\n",
            "-2\n",
            "1\n",
            "7.0\n"
          ]
        }
      ]
    }
  ]
}