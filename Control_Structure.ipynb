{
  "nbformat": 4,
  "nbformat_minor": 0,
  "metadata": {
    "colab": {
      "name": "Control Structure.ipynb",
      "provenance": [],
      "authorship_tag": "ABX9TyN+QPdGNjPFwPqEQBpbG+4d",
      "include_colab_link": true
    },
    "kernelspec": {
      "name": "python3",
      "display_name": "Python 3"
    },
    "language_info": {
      "name": "python"
    }
  },
  "cells": [
    {
      "cell_type": "markdown",
      "metadata": {
        "id": "view-in-github",
        "colab_type": "text"
      },
      "source": [
        "<a href=\"https://colab.research.google.com/github/khloemaritonigloria08/CPEN-21A-ECE-2-1/blob/main/Control_Structure.ipynb\" target=\"_parent\"><img src=\"https://colab.research.google.com/assets/colab-badge.svg\" alt=\"Open In Colab\"/></a>"
      ]
    },
    {
      "cell_type": "markdown",
      "metadata": {
        "id": "1lC8QPyEsmpW"
      },
      "source": [
        "##If Statement"
      ]
    },
    {
      "cell_type": "code",
      "metadata": {
        "colab": {
          "base_uri": "https://localhost:8080/"
        },
        "id": "3bE5jYbOsrN9",
        "outputId": "b4e6a6fe-ec42-417b-f271-8fdd1f58796f"
      },
      "source": [
        "a = 12\n",
        "b = 100\n",
        "if b>a:\n",
        "  print(\"b is greater than a\")"
      ],
      "execution_count": 1,
      "outputs": [
        {
          "output_type": "stream",
          "name": "stdout",
          "text": [
            "b is greater than a\n"
          ]
        }
      ]
    },
    {
      "cell_type": "markdown",
      "metadata": {
        "id": "8v3FLOuws9Qm"
      },
      "source": [
        "##Elif Statement"
      ]
    },
    {
      "cell_type": "code",
      "metadata": {
        "colab": {
          "base_uri": "https://localhost:8080/"
        },
        "id": "5HA80_cms_9G",
        "outputId": "3ac4a050-84b9-4456-b6ad-74c3fc14e78a"
      },
      "source": [
        "a = 12\n",
        "b = 12\n",
        "\n",
        "if b>a:\n",
        "  print(\"b is greater than a\")\n",
        "elif b==a:\n",
        "  print(\"b is equal to a\")"
      ],
      "execution_count": 2,
      "outputs": [
        {
          "output_type": "stream",
          "name": "stdout",
          "text": [
            "b is equal to a\n"
          ]
        }
      ]
    },
    {
      "cell_type": "markdown",
      "metadata": {
        "id": "zEe1vtketPwW"
      },
      "source": [
        "##Else Statement"
      ]
    },
    {
      "cell_type": "code",
      "metadata": {
        "colab": {
          "base_uri": "https://localhost:8080/"
        },
        "id": "otHLIHAWtVb9",
        "outputId": "18a6be3b-d4f0-409e-ebbe-470d4f40772d"
      },
      "source": [
        "a = 30\n",
        "b = 30\n",
        "if a>b:\n",
        "  print(\"a is greater than b\")\n",
        "elif  b>a:\n",
        "  print(\"b is greater than a\")\n",
        "else:\n",
        "  print(\"a is equal to b\")"
      ],
      "execution_count": 4,
      "outputs": [
        {
          "output_type": "stream",
          "name": "stdout",
          "text": [
            "a is equal to b\n"
          ]
        }
      ]
    },
    {
      "cell_type": "markdown",
      "metadata": {
        "id": "GiRU2_92tx4P"
      },
      "source": [
        "##Short Hand If Statement"
      ]
    },
    {
      "cell_type": "code",
      "metadata": {
        "colab": {
          "base_uri": "https://localhost:8080/"
        },
        "id": "qdSc4rqxt0y2",
        "outputId": "3809e14a-4e1c-4638-95fb-ab3bb0b2b4de"
      },
      "source": [
        "a = 7\n",
        "b = 14\n",
        "print(\"a is greater than b\") if a>b else print(\"b is greater than a\")"
      ],
      "execution_count": 6,
      "outputs": [
        {
          "output_type": "stream",
          "name": "stdout",
          "text": [
            "b is greater than a\n"
          ]
        }
      ]
    },
    {
      "cell_type": "markdown",
      "metadata": {
        "id": "Y2r4eEF9uIP3"
      },
      "source": [
        "###And logical condition"
      ]
    },
    {
      "cell_type": "code",
      "metadata": {
        "colab": {
          "base_uri": "https://localhost:8080/"
        },
        "id": "l5xb9t_vuK-O",
        "outputId": "7703595f-e078-4948-98a9-7e4a4a28245c"
      },
      "source": [
        "a = 200\n",
        "b = 33\n",
        "c = 500\n",
        "\n",
        "if a>b and c>a:\n",
        "  print(\"Both conditions are True\")"
      ],
      "execution_count": 29,
      "outputs": [
        {
          "output_type": "stream",
          "name": "stdout",
          "text": [
            "Both conditions are True\n"
          ]
        }
      ]
    },
    {
      "cell_type": "markdown",
      "metadata": {
        "id": "lFc0Rq0LvfyP"
      },
      "source": [
        "###Or logical condition"
      ]
    },
    {
      "cell_type": "code",
      "metadata": {
        "colab": {
          "base_uri": "https://localhost:8080/"
        },
        "id": "rzEoVqpLvhcV",
        "outputId": "02371a46-d364-433d-c324-daee6d5f335c"
      },
      "source": [
        "a = 200\n",
        "b = 300\n",
        "c = 500\n",
        "\n",
        "if a>b or c>a:\n",
        "  print(\"Evaluated as True\")\n",
        "else:\n",
        "  print(\"Evaluated as False\")"
      ],
      "execution_count": 30,
      "outputs": [
        {
          "output_type": "stream",
          "name": "stdout",
          "text": [
            "Evaluated as True\n"
          ]
        }
      ]
    },
    {
      "cell_type": "markdown",
      "metadata": {
        "id": "-aR8x3U2vxsP"
      },
      "source": [
        "##Nested If.. Else Statement"
      ]
    },
    {
      "cell_type": "code",
      "metadata": {
        "colab": {
          "base_uri": "https://localhost:8080/"
        },
        "id": "5NwU0BL3v0_v",
        "outputId": "01ccb62e-67ae-4669-e9af-ed6065121713"
      },
      "source": [
        "x = 9\n",
        "\n",
        "if x>10:\n",
        "  print(\"Above ten\")\n",
        "  if x>20:\n",
        "   print(\"Above twenty\")\n",
        "  else:\n",
        "   print(\"Above ten but Not above twenty\")\n",
        "else:\n",
        "  print(\"Not above ten\")"
      ],
      "execution_count": 41,
      "outputs": [
        {
          "output_type": "stream",
          "name": "stdout",
          "text": [
            "Not above ten\n"
          ]
        }
      ]
    },
    {
      "cell_type": "markdown",
      "metadata": {
        "id": "Hvhrr0j7zcuJ"
      },
      "source": [
        "##Example 1"
      ]
    },
    {
      "cell_type": "code",
      "metadata": {
        "colab": {
          "base_uri": "https://localhost:8080/"
        },
        "id": "pBmsIHYJzd7f",
        "outputId": "9ddd2916-1e79-4104-afd5-ce7f23c1f314"
      },
      "source": [
        "#The qualifying age to vote\n",
        "age = int(input(\"Enter your age:\"))\n",
        "\n",
        "if age>=18:\n",
        "  print(\"You are qualified to vote\")\n",
        "else:\n",
        "  print(\"You are not qualified to vote\")"
      ],
      "execution_count": 43,
      "outputs": [
        {
          "output_type": "stream",
          "name": "stdout",
          "text": [
            "Enter your age:19\n",
            "You are qualified to vote\n"
          ]
        }
      ]
    },
    {
      "cell_type": "markdown",
      "metadata": {
        "id": "ApracFAz0E0A"
      },
      "source": [
        "##Example 2"
      ]
    },
    {
      "cell_type": "code",
      "metadata": {
        "colab": {
          "base_uri": "https://localhost:8080/"
        },
        "id": "vlG9wI0s0GVw",
        "outputId": "849f514c-102c-42c8-8141-43524cf5bdac"
      },
      "source": [
        "num = int(input(\"Enter the number:\"))\n",
        "if num == 0:\n",
        " print(\"Zero\")\n",
        "elif num>0:\n",
        "  print(\"Positive\")\n",
        "else:\n",
        "  print(\"Negative\")"
      ],
      "execution_count": 44,
      "outputs": [
        {
          "output_type": "stream",
          "name": "stdout",
          "text": [
            "Enter the number:0\n",
            "Zero\n"
          ]
        }
      ]
    },
    {
      "cell_type": "markdown",
      "metadata": {
        "id": "B2Cj4C-P0jKB"
      },
      "source": [
        "##Example 3\n"
      ]
    },
    {
      "cell_type": "code",
      "metadata": {
        "colab": {
          "base_uri": "https://localhost:8080/"
        },
        "id": "U3jgCOa00oqA",
        "outputId": "d4549882-c556-4bce-b1e9-bda0a1bf1630"
      },
      "source": [
        "grade = float(input(\"Enter your grade:\"))\n",
        "if grade >= 75:\n",
        " print(\"Passed\")\n",
        "elif grade==74:\n",
        "  print(\"Remedial\")\n",
        "else:\n",
        "  print(\"Failed\")"
      ],
      "execution_count": 50,
      "outputs": [
        {
          "output_type": "stream",
          "name": "stdout",
          "text": [
            "Enter your grade:95.8\n",
            "Passed\n"
          ]
        }
      ]
    }
  ]
}